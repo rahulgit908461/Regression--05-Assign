{
 "cells": [
  {
   "cell_type": "code",
   "execution_count": 1,
   "id": "05c3cb9c-0f6e-4c3f-9e10-16f921e74eeb",
   "metadata": {},
   "outputs": [],
   "source": [
    "#Q1. What is Elastic Net Regression and how does it differ from other regression techniques?"
   ]
  },
  {
   "cell_type": "code",
   "execution_count": 3,
   "id": "af003af5-3164-4481-a855-e90d43e64cab",
   "metadata": {},
   "outputs": [],
   "source": [
    "#Elastic net linear regression uses the penalties from both the lasso and ridge techniques to regularize regression models. \n",
    "#The technique combines both the lasso and ridge regression methods by learning from their shortcomings to improve the \n",
    "#regularization of statistical models.\n",
    "#Elastic Net combines feature elimination from Lasso and feature coefficient reduction from the Ridge model to improve your \n",
    "#model's predictions."
   ]
  },
  {
   "cell_type": "code",
   "execution_count": 4,
   "id": "5985073a-8255-41af-a936-44582347c7ef",
   "metadata": {},
   "outputs": [],
   "source": [
    "#Q2. How do you choose the optimal values of the regularization parameters for Elastic Net Regression?"
   ]
  },
  {
   "cell_type": "code",
   "execution_count": 6,
   "id": "7061574d-e493-4b31-8540-e6606ec7e807",
   "metadata": {},
   "outputs": [],
   "source": [
    "#Choice of a regularization parameter\n",
    "#1.Import the data and use scikit-learn to split into train-val-test (60-20-20)\n",
    "#2.Estimate and validate the OLS regression with all inputs.\n",
    "#3.Search for the best ridge model.\n",
    "#4.References."
   ]
  },
  {
   "cell_type": "code",
   "execution_count": 7,
   "id": "7b8cbb55-c8eb-4956-8abb-85221007bb23",
   "metadata": {},
   "outputs": [],
   "source": [
    "#Q3. What are the advantages and disadvantages of Elastic Net Regression?"
   ]
  },
  {
   "cell_type": "code",
   "execution_count": 8,
   "id": "b8e5dbb5-b0d8-4e1c-b797-e71217b0f881",
   "metadata": {},
   "outputs": [],
   "source": [
    "#Advantage it can handle multicollinearity, selecting the most representative ones.\n",
    "#Disadvantage Sometimes, the problem of split-brain situations "
   ]
  },
  {
   "cell_type": "code",
   "execution_count": 9,
   "id": "b459959b-aace-4664-b0d8-daa3558f4567",
   "metadata": {},
   "outputs": [],
   "source": [
    "#Q4. What are some common use cases for Elastic Net Regression?"
   ]
  },
  {
   "cell_type": "code",
   "execution_count": 10,
   "id": "22c3b130-8ad9-4a89-9888-f5f972c14657",
   "metadata": {},
   "outputs": [],
   "source": [
    "#Elastic net linear regression uses the penalties from both the lasso and ridge techniques to regularize regression models. \n",
    "#The technique combines both the lasso and ridge regression methods by learning from their shortcomings to improve the \n",
    "#regularization of statistical models."
   ]
  },
  {
   "cell_type": "code",
   "execution_count": 11,
   "id": "d583b93c-8440-428b-b61e-5727999afec3",
   "metadata": {},
   "outputs": [],
   "source": [
    "#Q5. How do you interpret the coefficients in Elastic Net Regression?"
   ]
  },
  {
   "cell_type": "code",
   "execution_count": 12,
   "id": "e757a533-109b-4352-8bf9-2e6b6efc7977",
   "metadata": {},
   "outputs": [],
   "source": [
    "#A positive coefficient indicates that as the value of the independent variable increases, the mean of the dependent variable also \n",
    "#tends to increase. A negative coefficient suggests that as the independent variable increases, the dependent variable tends to \n",
    "#decrease."
   ]
  },
  {
   "cell_type": "code",
   "execution_count": 13,
   "id": "5615cfb4-fd16-4ec4-9bdf-90ce018f1c89",
   "metadata": {},
   "outputs": [],
   "source": [
    "#Q6. How do you handle missing values when using Elastic Net Regression?"
   ]
  },
  {
   "cell_type": "code",
   "execution_count": 14,
   "id": "e693ab08-c879-4a87-a7f5-6e0b875a577a",
   "metadata": {},
   "outputs": [],
   "source": [
    "#Simple approaches include taking the average of the column and use that value, or if there is a heavy skew the median might \n",
    "#be better. A better approach, you can perform regression or nearest neighbor imputation on the column to predict the missing \n",
    "#values. Then continue on with your analysis/model."
   ]
  },
  {
   "cell_type": "code",
   "execution_count": 15,
   "id": "f340a85d-88b7-4f21-b232-c6198a8df67a",
   "metadata": {},
   "outputs": [],
   "source": [
    "#Q7. How do you use Elastic Net Regression for feature selection?"
   ]
  },
  {
   "cell_type": "code",
   "execution_count": 16,
   "id": "8e226256-dfc3-45a7-b721-c3a783a7c565",
   "metadata": {},
   "outputs": [],
   "source": [
    "#LASSO and ELASTIC NET both perform feature selection and that's their whole purpose, so yes you can use them for this. You don't \n",
    "#need to select top n features, since you can play with the arguments α and λ to get an arbitrary number of non-negative \n",
    "#coefficients."
   ]
  },
  {
   "cell_type": "code",
   "execution_count": 17,
   "id": "e706c6a7-7d2d-49f6-8c36-6b1161d3141f",
   "metadata": {},
   "outputs": [],
   "source": [
    "#Q8. How do you pickle and unpickle a trained Elastic Net Regression model in Python?"
   ]
  },
  {
   "cell_type": "code",
   "execution_count": null,
   "id": "72ca2141-f49b-4e4e-b32c-bcc9cc4a8c96",
   "metadata": {},
   "outputs": [],
   "source": [
    "#To save the ML model using Pickle all we need to do is pass the model object into the dump() function of Pickle. This will serialize the object and convert it into a “byte stream” that we can save as a file called model. pkl ."
   ]
  }
 ],
 "metadata": {
  "kernelspec": {
   "display_name": "Python 3 (ipykernel)",
   "language": "python",
   "name": "python3"
  },
  "language_info": {
   "codemirror_mode": {
    "name": "ipython",
    "version": 3
   },
   "file_extension": ".py",
   "mimetype": "text/x-python",
   "name": "python",
   "nbconvert_exporter": "python",
   "pygments_lexer": "ipython3",
   "version": "3.10.8"
  }
 },
 "nbformat": 4,
 "nbformat_minor": 5
}
